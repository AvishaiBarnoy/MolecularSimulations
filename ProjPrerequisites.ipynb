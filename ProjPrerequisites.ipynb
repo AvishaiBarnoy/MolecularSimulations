{
 "cells": [
  {
   "cell_type": "markdown",
   "id": "b5d885a4-27d4-4a51-b4a0-ec51e3f040d0",
   "metadata": {},
   "source": [
    "# Prerequisites for numerical projects\n",
    "Before you start your first project, here are some instructions and prerequisites for setting up your development environment. \n",
    "\n"
   ]
  },
  {
   "cell_type": "markdown",
   "id": "f1c377bc-e985-40a0-b767-cc7defea145a",
   "metadata": {},
   "source": [
    "## The Linux terminal\n",
    "Linux terminals are command-line interfaces that allow users to interact with the operating system through text-based commands. \n",
    "These terminals provide powerful tools for managing files, processes, and system resources, enabling users to execute commands, write scripts, and automate tasks efficiently.\n",
    "\n",
    "\n",
    "If you have never used it, I highly recommend knowing it. \n",
    "You can see, for example, this basic [tutorial](https://ubuntu.com/tutorials/command-line-for-beginners#1-overview) by Ubuntu, one of the most popular Linux distributions. \n",
    "The operating system of your computer does not have to be Linux to use the Linux terminal. \n",
    "Mac OS has a terminal, and so does Windows. On Mac, just open the terminal. To enable the Windows Subsystem for Linux (WSL), see the following [instructions](https://docs.microsoft.com/en-us/windows/wsl/install).\n",
    "You do not have to use the Linux terminal if you do not want to. To complete the project, you can either use Codespaces (see below) or have a local Anaconda installation and GitHub Desktop (see below)."
   ]
  },
  {
   "cell_type": "markdown",
   "id": "3bb01370-b45c-4199-9e30-e5c50df3179e",
   "metadata": {},
   "source": [
    "## GitHub basics\n",
    "\n",
    "[GitHub](https://github.com/) is a code hosting platform for software development. It relies on an open-source version control system called [Git](https://git-scm.com/). De facto, all software development projects today use some kind of version control. It allows us to develop the code together as a team, keep track of changes, suggest new features, and merge everything in a simple workflow.\n",
    "\n",
    "The basic object is a *repository* (\"repo\"), which stores all of the source code for the project.\n",
    "You can create your repo or *clone* (GitHub jargon for copying) an existing repo.\n",
    "You can also *fork* a repo, which is similar to cloning, but you typically do it when you want to contribute your changes back to the original repo and not just develop your version.\n",
    "\n",
    "Each repository can have several *branches*. The default one is called *main*.\n",
    "When you want to implement a new feature, the typical workflow is to clone the repository and create a new branch dedicated to your feature. In this way, you will not change the main version of the code while you work. Next, you develop the new feature by adding or editing the source code. Every time you would like to save a checkpoint that you could return to if needed, you should *commit* your changes and *push* them to update the remote repository. When you want to discuss your changes and consult with your team, you can create a *pull request* on GitHub.\n",
    "Once you are done with all changes, you must *merge* your branch back with the original main branch. This is done by closing the pull request and merging.\n"
   ]
  },
  {
   "cell_type": "markdown",
   "id": "6dd81131-a32b-4ab5-b663-423c278344ea",
   "metadata": {},
   "source": [
    "The first \"assignment\" is an exercise developed by GitHub to let you practice this workflow. It will explain everything I mentioned in brief and more. \n",
    "This and all next assignments can be done using GitHub Codespaces environment (officially recommended) or locally developed (for more advanced users who are at ease with Linux and Anaconda).\n",
    "\n",
    "Both environments use Github's developer platform infrastructure, so first, let us open a GitHub account:\n",
    "\n",
    "\n",
    "- Create a free account on [GitHub](https://github.com/).\n",
    "- Optional: Upgrade to Pro with [GitHub Student Developer Pack](https://education.github.com/pack). "
   ]
  },
  {
   "cell_type": "markdown",
   "id": "89b31bf1-1680-4080-83a3-69e8695a0c45",
   "metadata": {},
   "source": [
    "Moving on to selecting a working environment, you may choose between the following two options:\n",
    "### 1. Github Codespaces:\n",
    "GitHub Codespaces is a cloud-based development environment provided by GitHub, offering a fully configured and customizable development environment directly within the browser. It enables developers to create, edit, and run code without setting up a local development environment. This service supports Visual Studio Code, allowing for a seamless and familiar coding experience. Additionally, it facilitates collaboration by allowing multiple developers to work in the same environment, thereby improving productivity and simplifying the development workflow.\n",
    "\n",
    "To enter the Codespaces environment, go to the [course's first project GitHub repository](https://github.com/BarakHirshberg/template-projects-molsim). Click the green `Use this template` button on the top right of the window, then select 'open in codespace'. This will open a new tab with a codespaces enivronment.\n",
    "\n",
    "As you may see, this environment allows you to edit the course's first project in your browser. However, you first need to create a copy of the repository. On the left side of the window, click the source control button, enter an indicative message (\"initial commit\" will suffice) and click 'Publish Branch'. A selection menu will open at the top of the screen, with the option to create a private or public repository. Remember that full functionality for private repositories is enabled only for pro users. "
   ]
  },
  {
   "cell_type": "markdown",
   "id": "e4c735f3-dfa5-4be3-968a-caf3caa7ca19",
   "metadata": {},
   "source": [
    "### 2. Local Git Development:\n",
    "Alternatively, you may use Git on your local machine to manage and track changes in their codebase. This method offers the flexibility to work offline and experiment with different features in isolated branches but requires more advanced configuration management skills\n",
    "\n",
    "To do it, first choose whether you will be working with a graphical user interface (GUI) or through the terminal:\n",
    "| For GUI users                                                                                        | For terminal users                                                                                                                    |\n",
    "|------------------------------------------------------------------------------------------------------|-----------------------------------------------------------------------------------------------------------------------------------|\n",
    "| Install [GitHub Desktop](https://desktop.github.com/) to clone, commit and push to repo.             | Windows: Install WSL. Follow these [instructions](https://docs.microsoft.com/en-us/windows/wsl/install). In other OS, terminals are already built in.                          |\n",
    "\n",
    "\n",
    "- Install [Anaconda](https://www.anaconda.com/products/individual) and work with Spyder to edit files.\n",
    "\n",
    "- Clone the [course's first project GitHub repository](https://github.com/BarakHirshberg/template-projects-molsim) locally to your computer. The changes you will make on your local copy will not affect the remote one until you push your changes (see the last step below).\n",
    "```\n",
    "git clone https://github.com/BarakHirshberg/template-projects-molsim\n",
    "\n",
    "```\n",
    "- Create your branch and switch to working in it using the command \n",
    "```\n",
    "git checkout -b myBranch\n",
    "\n",
    "```\n",
    "- Create a new Markdown file `Hello_world.md` using Spyder and add to it some text.\n",
    "- Commit your changes.\n",
    "```\n",
    "git commit Hello_world.md\n",
    "\n",
    "```\n",
    "- Push your changes to the remote repo.\n",
    "```\n",
    "git push\n",
    "\n",
    "```\n",
    "\n",
    "All of the steps above can also be done using the GUI of GitHub desktop instead."
   ]
  },
  {
   "cell_type": "markdown",
   "id": "6d0f2244-872d-4022-aab2-02432bdf8778",
   "metadata": {},
   "source": [
    "### Adding Barak as Collaborator\n",
    "\n",
    "You can now find the project cloned repository on your personal GitHub page. We will now add Barak as a Collaborator to your repository:\n",
    "in your cloned repository GitHub page, select `Settings` in the top menu, then go to `Collaborators`. Select the green button `Add people` and type `BarakHirshberg`. This will send Barak a collaboration invitation, allowing him to review and grade the assignment."
   ]
  },
  {
   "cell_type": "code",
   "execution_count": null,
   "id": "0499133d-8b03-4883-9c13-6c8546a525e3",
   "metadata": {},
   "outputs": [],
   "source": []
  }
 ],
 "metadata": {
  "kernelspec": {
   "display_name": "Python 3 (ipykernel)",
   "language": "python",
   "name": "python3"
  },
  "language_info": {
   "codemirror_mode": {
    "name": "ipython",
    "version": 3
   },
   "file_extension": ".py",
   "mimetype": "text/x-python",
   "name": "python",
   "nbconvert_exporter": "python",
   "pygments_lexer": "ipython3",
   "version": "3.10.12"
  }
 },
 "nbformat": 4,
 "nbformat_minor": 5
}
