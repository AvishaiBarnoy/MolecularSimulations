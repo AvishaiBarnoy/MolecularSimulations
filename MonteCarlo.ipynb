{
 "cells": [
  {
   "cell_type": "markdown",
   "id": "91b928f5",
   "metadata": {},
   "source": [
    "# Monte Carlo\n",
    "\n",
    "Now that you have written your own MD code, you have a recipe for evaluating thermodynamic properties of systems in the microcanonical ensemble. But what would you do if you wanted to get a different ensemble? You would have to evaluate Eq.[](ensemble_av_NVT). Effectively, this means evalauting very **high-dimensional integrals**, since $\\bf x$ is of dimension $6N$ where $N$ is the number of atoms. How could this be done in practice? By running many simulations at different total energies, and taking the weighted averages of the thermodynamic property according to the Boltzmann weight. This is very expensive. Monte carlo is a clever way to evaluate such integrals."
   ]
  },
  {
   "cell_type": "markdown",
   "id": "c5a6cdb6",
   "metadata": {},
   "source": [
    "## Numerical integration\n",
    "As we have seen, the integrals we usually encounter in statistical mechanics are for evaluating ensemble averages.\n",
    "They have the form \n",
    "\n",
    "$$\n",
    "A = \\int f(\\textbf x) \\, a(\\textbf{x}) \\, \\mathrm{d} \\textbf{x},\n",
    "$$ \n",
    "where \n",
    "$$\n",
    "f(\\textbf x) = \\frac{1}{\\mathcal Z} \\mathcal{F}(\\mathcal{H} (\\textbf{x}))\n",
    "$$\n",
    "is a positive, normalized phase space probability density.\n",
    "\n",
    "We will *assume* that we have an algorithm for obtaining a set of $M$ samples $\\textbf x_1 ,..., \\textbf x_M$ that are distributed according to $f(\\textbf x)$. This is by no means a trivial task. It is straightforward only for simple distribution and Monte Carlo addresses exactly this issue. But for now, we will simply assume such an algorithm exists. If that is the case, we will show that the simple arithmetic mean of the samples \n",
    "\n",
    "$$\n",
    "A_M = \\frac{1}{M} \\sum_{j=1}^{M} a(\\textbf{x}_j)\n",
    "$$\n",
    "converges to $A$ in the limit $M \\to \\infty$."
   ]
  },
  {
   "cell_type": "markdown",
   "id": "071fc31b",
   "metadata": {},
   "source": [
    "## Sampling from distributions"
   ]
  },
  {
   "cell_type": "markdown",
   "id": "9a12a36e",
   "metadata": {},
   "source": [
    "## Importance sampling"
   ]
  },
  {
   "cell_type": "markdown",
   "id": "363383d2",
   "metadata": {},
   "source": [
    "## Moves"
   ]
  },
  {
   "cell_type": "markdown",
   "id": "fdab2f96",
   "metadata": {},
   "source": [
    "## Acceptance ration and detailed balance "
   ]
  },
  {
   "cell_type": "markdown",
   "id": "a65c62e7",
   "metadata": {},
   "source": []
  }
 ],
 "metadata": {
  "kernelspec": {
   "display_name": "Python 3 (ipykernel)",
   "language": "python",
   "name": "python3"
  },
  "language_info": {
   "codemirror_mode": {
    "name": "ipython",
    "version": 3
   },
   "file_extension": ".py",
   "mimetype": "text/x-python",
   "name": "python",
   "nbconvert_exporter": "python",
   "pygments_lexer": "ipython3",
   "version": "3.9.7"
  }
 },
 "nbformat": 4,
 "nbformat_minor": 5
}
